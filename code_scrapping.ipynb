{
 "cells": [
  {
   "cell_type": "code",
   "execution_count": 3,
   "id": "8ea6aa48",
   "metadata": {},
   "outputs": [
    {
     "name": "stdout",
     "output_type": "stream",
     "text": [
      "saving info\n",
      "Scraping time:0.01 seconds\n"
     ]
    }
   ],
   "source": [
    "import time\n",
    "import csv\n",
    "import requests\n",
    "def main():\n",
    "    start_time=time.time()\n",
    "    print('Saving ')\n",
    "def save_info(agrculture11_info):\n",
    "    json_file_name=book_name.replace(' ','_')\n",
    "    with open (f'data/{json_file_name}.json','w')as book_file:\n",
    "        json.dump(agrculture11_info)\n",
    "        \n",
    "\n",
    "def scrape(url):\n",
    "    response=requests.get(url)\n",
    "    soup=BeautifulSoup(response.content,'html.parser')\n",
    "    agriculture11_info=soup.find.p.text\n",
    "    print(soup)\n",
    "\n",
    "\n",
    "def main():\n",
    "    start_time= time.time()\n",
    "    \n",
    "    print(\"saving info\")\n",
    "    with open ('agriculture.csv')as file:\n",
    "        csv_reader=csv.DictReader(file)\n",
    "        for csv_row in csv_reader:\n",
    "#             scrape(csv_row['urls'])\n",
    "         time_difference= time.time() -start_time\n",
    "    print(f'Scraping time:%.2f seconds' % time_difference)\n",
    "    \n",
    "main()\n",
    "\n",
    "            "
   ]
  },
  {
   "cell_type": "code",
   "execution_count": null,
   "id": "3454a567",
   "metadata": {},
   "outputs": [],
   "source": []
  }
 ],
 "metadata": {
  "kernelspec": {
   "display_name": "Python 3 (ipykernel)",
   "language": "python",
   "name": "python3"
  },
  "language_info": {
   "codemirror_mode": {
    "name": "ipython",
    "version": 3
   },
   "file_extension": ".py",
   "mimetype": "text/x-python",
   "name": "python",
   "nbconvert_exporter": "python",
   "pygments_lexer": "ipython3",
   "version": "3.9.7"
  }
 },
 "nbformat": 4,
 "nbformat_minor": 5
}
